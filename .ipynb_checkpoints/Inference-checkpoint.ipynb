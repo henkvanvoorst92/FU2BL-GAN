{
 "cells": [
  {
   "cell_type": "code",
   "execution_count": null,
   "id": "ed706f88",
   "metadata": {},
   "outputs": [],
   "source": [
    "import torch, os, sys, h5py, time\n",
    "import numpy as np\n",
    "from datetime import datetime\n",
    "sys.path.append(r'C:\\Users\\hvanvoorst\\PhD\\git_repos\\FU2BL-GAN')\n",
    "from options.options_FU2BL import get_options\n",
    "from utils.TrainUtils import get_scheduler\n",
    "from scripts.Train_FU2BL import FU2BL_GAN\n",
    "#from utils.Augment import * # import all augmentation functions\n",
    "from utils.Utils import *\n",
    "opt = get_options()"
   ]
  },
  {
   "cell_type": "code",
   "execution_count": null,
   "id": "bac2652e",
   "metadata": {},
   "outputs": [],
   "source": [
    "model = FU2BL_GAN(opt,train=False)\n",
    "epoch = 700 # example number\n",
    "model.load_checkpoint(epoch,model_state='eval')\n",
    "\n",
    "path_to_fu_ncct = ''\n",
    "\n",
    "special_PP2 = FU2BL_PP(types=['stack_ranges'], \n",
    "                      ranges=opt.HU_ranges, minmax=(-1,1), channeldim=1)\n",
    "\n",
    "volume = sitk.ReadImage(path_to_fu_ncct)\n",
    "vol = sitk.GetArrayFromImage(volume)\n",
    "\n",
    "# run the inference for each slice\n",
    "bsize = 6 #infer 6 slices at the same time\n",
    "couples = [(r,r+bsize) for r in range(0,vol.shape[0],bsize)]\n",
    "dmap = [] #difference map \n",
    "for couple in couples:\n",
    "    v = vol[couple[0]:couple[1]]\n",
    "    FU = torch.tensor(special_PP2([v])[0]).type(torch.float32).cuda()\n",
    "    dmap.append(model.netG(FU)[:,0,:,:]) # dim=0 is z-axis, dim=1 is channel \n",
    "    \n",
    "vol_dmap = np2itk(rtrn_np(torch.cat(dmap, dim=0)),volume)\n",
    "\n",
    "#store if required\n",
    "#sitk.WriteImage(vol_dmap,path_to_save)   \n"
   ]
  }
 ],
 "metadata": {
  "kernelspec": {
   "display_name": "Python 3 (ipykernel)",
   "language": "python",
   "name": "python3"
  },
  "language_info": {
   "codemirror_mode": {
    "name": "ipython",
    "version": 3
   },
   "file_extension": ".py",
   "mimetype": "text/x-python",
   "name": "python",
   "nbconvert_exporter": "python",
   "pygments_lexer": "ipython3",
   "version": "3.9.7"
  }
 },
 "nbformat": 4,
 "nbformat_minor": 5
}
